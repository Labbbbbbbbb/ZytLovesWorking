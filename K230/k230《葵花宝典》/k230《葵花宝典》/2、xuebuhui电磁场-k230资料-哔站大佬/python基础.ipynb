{
 "cells": [
  {
   "cell_type": "code",
   "execution_count": 5,
   "id": "88353b14",
   "metadata": {},
   "outputs": [
    {
     "name": "stdout",
     "output_type": "stream",
     "text": [
      "fps:23  2.34\n"
     ]
    }
   ],
   "source": [
    "aaa = 23\n",
    "f_ = 2.34\n",
    "s = \"aaaa\"\n",
    "new_s = \"fps:{}  {}\".format(aaa, f_)\n",
    "\n",
    "print(new_s)"
   ]
  },
  {
   "cell_type": "code",
   "execution_count": 6,
   "id": "9ac1cd88",
   "metadata": {},
   "outputs": [
    {
     "data": {
      "text/plain": [
       "(68, -22, 529, 0.9583333333333334)"
      ]
     },
     "execution_count": 6,
     "metadata": {},
     "output_type": "execute_result"
    }
   ],
   "source": [
    "23 + 45, 23 - 45, 23 * 23, 23 / 24"
   ]
  },
  {
   "cell_type": "code",
   "execution_count": 7,
   "id": "299a0cff",
   "metadata": {},
   "outputs": [
    {
     "data": {
      "text/plain": [
       "2"
      ]
     },
     "execution_count": 7,
     "metadata": {},
     "output_type": "execute_result"
    }
   ],
   "source": [
    "23 % 7"
   ]
  },
  {
   "cell_type": "code",
   "execution_count": 9,
   "id": "b68944db",
   "metadata": {},
   "outputs": [
    {
     "data": {
      "text/plain": [
       "'aaabbb'"
      ]
     },
     "execution_count": 9,
     "metadata": {},
     "output_type": "execute_result"
    }
   ],
   "source": [
    "s1 = \"aaa\"\n",
    "s2 = \"bbb\"\n",
    "s3 = \"aaa\" + \"bbb\"\n",
    "s3"
   ]
  },
  {
   "cell_type": "code",
   "execution_count": 13,
   "id": "f97a7a20",
   "metadata": {},
   "outputs": [
    {
     "name": "stdout",
     "output_type": "stream",
     "text": [
      "[[2, 3], [3, 5]]\n"
     ]
    }
   ],
   "source": [
    "# 自己的话\n",
    "a_lst = list(\"aaa\")\n",
    "b_lst = [2, 3, 4, \"aaa\", \"bbb\"]\n",
    "c_lst = [[2, 3], [3, 5]]\n",
    "print(c_lst)"
   ]
  },
  {
   "cell_type": "code",
   "execution_count": 14,
   "id": "fd546f9b",
   "metadata": {},
   "outputs": [
    {
     "name": "stdout",
     "output_type": "stream",
     "text": [
      "aaa\n"
     ]
    }
   ],
   "source": [
    "print(b_lst[3])"
   ]
  },
  {
   "cell_type": "code",
   "execution_count": null,
   "id": "e92d0b47",
   "metadata": {},
   "outputs": [
    {
     "name": "stdout",
     "output_type": "stream",
     "text": [
      "2\n",
      "\n",
      "3\n",
      "\n",
      "4\n",
      "\n",
      "aaa\n",
      "\n",
      "bbb\n",
      "\n"
     ]
    }
   ],
   "source": [
    "for item in b_lst:\n",
    "    print(item, end=\"\")\n",
    "    print(\"\\n\")"
   ]
  },
  {
   "cell_type": "code",
   "execution_count": 18,
   "id": "358b0a17",
   "metadata": {},
   "outputs": [
    {
     "name": "stdout",
     "output_type": "stream",
     "text": [
      "0\n",
      "1\n",
      "2\n",
      "3\n",
      "4\n",
      "5\n",
      "6\n",
      "7\n",
      "8\n",
      "9\n"
     ]
    }
   ],
   "source": [
    "for i in range(10):\n",
    "    print(i)"
   ]
  },
  {
   "cell_type": "code",
   "execution_count": null,
   "id": "6558ce9e",
   "metadata": {},
   "outputs": [
    {
     "name": "stdout",
     "output_type": "stream",
     "text": [
      "4\n"
     ]
    }
   ],
   "source": [
    "if False:\n",
    "    print(5)\n",
    "else:\n",
    "    print(4)"
   ]
  },
  {
   "cell_type": "code",
   "execution_count": null,
   "id": "e103168f",
   "metadata": {},
   "outputs": [],
   "source": [
    "while True:\n",
    "    aa = 0\n",
    "    break"
   ]
  },
  {
   "cell_type": "code",
   "execution_count": 23,
   "id": "6569c2cd",
   "metadata": {},
   "outputs": [],
   "source": [
    "def cal_(x, y):\n",
    "    return (x + y)*(x - y)"
   ]
  },
  {
   "cell_type": "code",
   "execution_count": 24,
   "id": "62c2ced2",
   "metadata": {},
   "outputs": [
    {
     "data": {
      "text/plain": [
       "-16"
      ]
     },
     "execution_count": 24,
     "metadata": {},
     "output_type": "execute_result"
    }
   ],
   "source": [
    "cal_(3, 5)"
   ]
  },
  {
   "cell_type": "code",
   "execution_count": 26,
   "id": "b7db9305",
   "metadata": {},
   "outputs": [],
   "source": [
    "class p:\n",
    "    def __init__(self, x) -> None:\n",
    "        self.x = x\n",
    "    def f_p(self):\n",
    "        print(self.x)"
   ]
  },
  {
   "cell_type": "code",
   "execution_count": 28,
   "id": "9ff78a18",
   "metadata": {},
   "outputs": [
    {
     "name": "stdout",
     "output_type": "stream",
     "text": [
      "5\n"
     ]
    }
   ],
   "source": [
    "p1 = p(5)\n",
    "p1.f_p()"
   ]
  },
  {
   "cell_type": "code",
   "execution_count": 32,
   "id": "46eb6a58",
   "metadata": {},
   "outputs": [
    {
     "data": {
      "text/plain": [
       "3"
      ]
     },
     "execution_count": 32,
     "metadata": {},
     "output_type": "execute_result"
    }
   ],
   "source": [
    "import random\n",
    "random.randint(1, 5)"
   ]
  },
  {
   "cell_type": "code",
   "execution_count": null,
   "id": "09182499",
   "metadata": {},
   "outputs": [
    {
     "name": "stdout",
     "output_type": "stream",
     "text": [
      "None\n"
     ]
    }
   ],
   "source": [
    "import time\n",
    "time.sleep(2)"
   ]
  },
  {
   "cell_type": "code",
   "execution_count": null,
   "id": "e480530f",
   "metadata": {},
   "outputs": [],
   "source": [
    "from time import sleep\n",
    "\n",
    "sleep(2)"
   ]
  }
 ],
 "metadata": {
  "kernelspec": {
   "display_name": "data",
   "language": "python",
   "name": "python3"
  },
  "language_info": {
   "codemirror_mode": {
    "name": "ipython",
    "version": 3
   },
   "file_extension": ".py",
   "mimetype": "text/x-python",
   "name": "python",
   "nbconvert_exporter": "python",
   "pygments_lexer": "ipython3",
   "version": "3.10.15"
  }
 },
 "nbformat": 4,
 "nbformat_minor": 5
}
